{
 "cells": [
  {
   "cell_type": "code",
   "execution_count": 1,
   "metadata": {},
   "outputs": [
    {
     "name": "stdout",
     "output_type": "stream",
     "text": [
      "from hello\n"
     ]
    }
   ],
   "source": [
    "class Computer1:\n",
    "    def hello(self):\n",
    "        print(\"from hello\")\n",
    "        \n",
    "com1=Computer1()\n",
    "com1.hello()"
   ]
  },
  {
   "cell_type": "code",
   "execution_count": 2,
   "metadata": {},
   "outputs": [
    {
     "name": "stdout",
     "output_type": "stream",
     "text": [
      "from init\n",
      "sum is =  30\n",
      "2061287048480\n"
     ]
    }
   ],
   "source": [
    "class Computer2:\n",
    "    def __init__(self,a,b):\n",
    "        self.a=a\n",
    "        self.b=b\n",
    "        print(\"from init\")\n",
    "        \n",
    "    def sum(self):\n",
    "        self.c=self.a+self.b\n",
    "        \n",
    "        \n",
    "        \n",
    "com1=Computer2(10,20)\n",
    "com1.sum()\n",
    "print(\"sum is = \",com1.c)\n",
    "print(id(com1))"
   ]
  },
  {
   "cell_type": "code",
   "execution_count": 3,
   "metadata": {},
   "outputs": [
    {
     "name": "stdout",
     "output_type": "stream",
     "text": [
      "from init\n",
      "from init\n",
      "sum is =  30\n",
      "2061287259824\n",
      "both are not same\n"
     ]
    }
   ],
   "source": [
    "class Computer3:\n",
    "    def __init__(self,a,b):\n",
    "        self.a=a\n",
    "        self.b=b\n",
    "        print(\"from init\")\n",
    "        \n",
    "    def sum(self):\n",
    "        self.c=self.a+self.b\n",
    "    def compare(self,c2):\n",
    "        if (self.a==c2.a and self.b==c2.b and self.c==c2.c):\n",
    "            return True\n",
    "        else:\n",
    "            return False\n",
    "        \n",
    "        \n",
    "com1=Computer3(10,20)\n",
    "com1.sum()\n",
    "com2=Computer3(10,30)\n",
    "com2.sum()\n",
    "\n",
    "\n",
    "print(\"sum is = \",com1.c)\n",
    "print(id(com1))\n",
    "\n",
    "if com1.compare(com2):\n",
    "    print(\"both are same\")\n",
    "else:\n",
    "    print(\"both are not same\")"
   ]
  },
  {
   "cell_type": "code",
   "execution_count": 4,
   "metadata": {},
   "outputs": [
    {
     "name": "stdout",
     "output_type": "stream",
     "text": [
      "from init\n",
      "from init\n",
      "sum is of com1 is =  30\n",
      "sum of com2 is =  70\n",
      "global varaiable of com1 40\n",
      "global varaiable of com2 40\n"
     ]
    }
   ],
   "source": [
    "class Computer4:\n",
    "    globe=40\n",
    "    def __init__(self,a,b):\n",
    "        self.a=a\n",
    "        self.b=b\n",
    "        print(\"from init\")\n",
    "        \n",
    "    def sum(self):\n",
    "        self.c=self.a+self.b\n",
    "        \n",
    "        \n",
    "        \n",
    "com1=Computer4(10,20)\n",
    "com1.sum()\n",
    "\n",
    "com2=Computer4(30,40)\n",
    "com2.sum()\n",
    "\n",
    "print(\"sum is of com1 is = \",com1.c)\n",
    "print(\"sum of com2 is = \",com2.c)\n",
    "print(\"global varaiable of com1\",com1.globe)\n",
    "print(\"global varaiable of com2\",com2.globe)"
   ]
  },
  {
   "cell_type": "code",
   "execution_count": 5,
   "metadata": {},
   "outputs": [
    {
     "name": "stdout",
     "output_type": "stream",
     "text": [
      "from init\n",
      "from init\n",
      "sum is of com1 is =  30\n",
      "sum of com2 is =  70\n",
      "global varaiable of com1 40\n",
      "global varaiable of com2 40\n",
      "40\n"
     ]
    },
    {
     "data": {
      "text/plain": [
       "'This is from static'"
      ]
     },
     "execution_count": 5,
     "metadata": {},
     "output_type": "execute_result"
    }
   ],
   "source": [
    "class Computer5:\n",
    "    globe=40\n",
    "    def __init__(self,a,b):\n",
    "        self.a=a\n",
    "        self.b=b\n",
    "        print(\"from init\")\n",
    "        \n",
    "    def sum(self):\n",
    "        self.c=self.a+self.b\n",
    "    \n",
    "    @classmethod\n",
    "    def getGlobe(cls):\n",
    "        return cls.globe\n",
    "    \n",
    "    @staticmethod\n",
    "    def info():\n",
    "        return(\"This is from static\")\n",
    "        \n",
    "        \n",
    "com1=Computer5(10,20)\n",
    "com1.sum()\n",
    "\n",
    "com2=Computer5(30,40)\n",
    "com2.sum()\n",
    "\n",
    "\n",
    "print(\"sum is of com1 is = \",com1.c)\n",
    "print(\"sum of com2 is = \",com2.c)\n",
    "print(\"global varaiable of com1\",com1.globe)\n",
    "print(\"global varaiable of com2\",com2.globe)\n",
    "\n",
    "\n",
    "print(Computer5.getGlobe())\n",
    "com1.info()\n"
   ]
  },
  {
   "cell_type": "code",
   "execution_count": 29,
   "metadata": {},
   "outputs": [
    {
     "name": "stdout",
     "output_type": "stream",
     "text": [
      "1 Vijay\n",
      "HP i5 8gb\n",
      "Apple X 8gb\n",
      "HP i5\n",
      "DELL R 6gb\n"
     ]
    }
   ],
   "source": [
    "class Student:\n",
    "    def __init__(self,sno,name,brand,cpu,ram):\n",
    "        self.sno=sno\n",
    "        self.name=name\n",
    "        self.lap=self.Laptop(brand,cpu,ram)\n",
    "    \n",
    "    def show(self):\n",
    "        print(self.sno,self.name)\n",
    "        self.lap.show()\n",
    "        \n",
    "    class Laptop:                      --> we can define the sub class\n",
    "        def __init__(self,brand,cpu,ram):\n",
    "            self.brand=brand\n",
    "            self.cpu=cpu\n",
    "            self.ram=ram\n",
    "            \n",
    "        def show(self):\n",
    "            print(self.brand,self.cpu,self.ram)\n",
    "            \n",
    "            \n",
    "s1=Student(1,'Vijay','HP','i5','8gb')\n",
    "s2=Student(2,'Kumar','Apple','X','8gb')\n",
    "\n",
    "s1.show()\n",
    "\n",
    "s2.lap.show()\n",
    "\n",
    "print(s1.lap.brand,s1.lap.cpu)\n",
    "\n",
    "L1=Student.Laptop('DELL','R','6gb') -->we can directly define the sub class object\n",
    "L1.show()\n"
   ]
  },
  {
   "cell_type": "code",
   "execution_count": 43,
   "metadata": {},
   "outputs": [
    {
     "name": "stdout",
     "output_type": "stream",
     "text": [
      "In feature1\n",
      "In feature1\n",
      "In feature1\n",
      "In feature3\n",
      "In feature6\n"
     ]
    }
   ],
   "source": [
    "class A:\n",
    "    def feature1(self):\n",
    "        print(\"In feature1\")\n",
    "    \n",
    "    def feature2(self):\n",
    "        print(\"In feature2\")\n",
    "        \n",
    "class B(A):\n",
    "    def feature3(self):\n",
    "        print(\"In feature3\")\n",
    "    \n",
    "    def feature4(self):\n",
    "        print(\"In feature4\")\n",
    "\n",
    "class C(B):\n",
    "    def feature5(self):\n",
    "        print(\"In feature5\")\n",
    "    \n",
    "    def feature6(self):\n",
    "        print(\"In feature6\")\n",
    "        \n",
    "a1=A()\n",
    "a1.feature1()\n",
    "        \n",
    "b1=B()\n",
    "b1.feature1()\n",
    "\n",
    "c1=C()\n",
    "c1.feature1()\n",
    "c1.feature3()\n",
    "c1.feature6()"
   ]
  },
  {
   "cell_type": "code",
   "execution_count": 45,
   "metadata": {},
   "outputs": [
    {
     "name": "stdout",
     "output_type": "stream",
     "text": [
      "In feature1\n",
      "In feature2\n",
      "In feature3\n",
      "In feature4\n",
      "In feature1\n",
      "In feature2\n",
      "In feature3\n",
      "In feature4\n",
      "In feature5\n",
      "In feature6\n"
     ]
    }
   ],
   "source": [
    "class P:\n",
    "    def feature1(self):\n",
    "        print(\"In feature1\")\n",
    "    \n",
    "    def feature2(self):\n",
    "        print(\"In feature2\")\n",
    "        \n",
    "class Q:\n",
    "    def feature3(self):\n",
    "        print(\"In feature3\")\n",
    "    \n",
    "    def feature4(self):\n",
    "        print(\"In feature4\")\n",
    "\n",
    "class R(P,Q):\n",
    "    def feature5(self):\n",
    "        print(\"In feature5\")\n",
    "    \n",
    "    def feature6(self):\n",
    "        print(\"In feature6\")\n",
    "        \n",
    "p1=P()\n",
    "p1.feature1()\n",
    "p1.feature2()\n",
    "        \n",
    "q1=Q()\n",
    "q1.feature3()\n",
    "q1.feature4()\n",
    "\n",
    "r1=R()\n",
    "r1.feature1()\n",
    "r1.feature2()\n",
    "r1.feature3()\n",
    "r1.feature4()\n",
    "r1.feature5()\n",
    "r1.feature6()"
   ]
  },
  {
   "cell_type": "code",
   "execution_count": 51,
   "metadata": {},
   "outputs": [
    {
     "name": "stdout",
     "output_type": "stream",
     "text": [
      "in class A constructor\n",
      "in class B constructor\n",
      "In feature1\n"
     ]
    }
   ],
   "source": [
    "class A:\n",
    "    def __init__(self):\n",
    "        print(\"in class A constructor\")\n",
    "        \n",
    "    def feature1(self):\n",
    "        print(\"In feature1\")\n",
    "    \n",
    "    def feature2(self):\n",
    "        print(\"In feature2\")\n",
    "        \n",
    "class B(A):\n",
    "    def __init__(self):\n",
    "        super().__init__()\n",
    "        print(\"in class B constructor\")\n",
    "        \n",
    "    def feature3(self):\n",
    "        print(\"In feature3\")\n",
    "    \n",
    "    def feature4(self):\n",
    "        print(\"In feature4\")\n",
    "\n",
    "\n",
    "\n",
    "b1=B()\n",
    "b1.feature1()\n"
   ]
  },
  {
   "cell_type": "code",
   "execution_count": 55,
   "metadata": {},
   "outputs": [
    {
     "name": "stdout",
     "output_type": "stream",
     "text": [
      "in class P constructor\n",
      "in class Q constructor\n",
      "in class P constructor\n",
      "in class R constructor\n"
     ]
    }
   ],
   "source": [
    "class P:\n",
    "    def __init__(self):\n",
    "        print(\"in class P constructor\")\n",
    "    \n",
    "    def feature1(self):\n",
    "        print(\"In feature1\")\n",
    "    \n",
    "    def feature2(self):\n",
    "        print(\"In feature2\")\n",
    "        \n",
    "class Q:\n",
    "    def __init__(self):\n",
    "        print(\"in class Q constructor\")\n",
    "\n",
    "    def feature3(self):\n",
    "        print(\"In feature3\")\n",
    "    \n",
    "    def feature4(self):\n",
    "        print(\"In feature4\")\n",
    "\n",
    "class R(P,Q):\n",
    "    def __init__(self):\n",
    "        super().__init__()\n",
    "        print(\"in class R constructor\")\n",
    "\n",
    "    def feature5(self):\n",
    "        print(\"In feature5\")\n",
    "    \n",
    "    def feature6(self):\n",
    "        print(\"In feature6\")\n",
    "        \n",
    "p1=P()      \n",
    "q1=Q()\n",
    "r1=R()\n"
   ]
  },
  {
   "cell_type": "code",
   "execution_count": 58,
   "metadata": {},
   "outputs": [
    {
     "name": "stdout",
     "output_type": "stream",
     "text": [
      "Compiling\n",
      "Executing\n",
      "Compiling from My Editor\n",
      "Executing from My Editor\n"
     ]
    }
   ],
   "source": [
    "class Jupyter:\n",
    "    def excute(self):\n",
    "        print(\"Compiling\")\n",
    "        print(\"Executing\")\n",
    "        \n",
    "class MyEditor:\n",
    "    def excute(self):\n",
    "        print(\"Compiling from My Editor\")\n",
    "        print(\"Executing from My Editor\")\n",
    "        \n",
    "        \n",
    "class Laptop:\n",
    "    def code(self,ide):\n",
    "        ide.excute()\n",
    "        \n",
    "        \n",
    "ide=Jupyter()\n",
    "myide=MyEditor()\n",
    "\n",
    "lap=Laptop()\n",
    "lap.code(ide)\n",
    "lap.code(myide)\n",
    "\n",
    "\n"
   ]
  },
  {
   "cell_type": "code",
   "execution_count": 71,
   "metadata": {},
   "outputs": [
    {
     "name": "stdout",
     "output_type": "stream",
     "text": [
      "12 14\n",
      "1 2\n",
      "() () \n"
     ]
    }
   ],
   "source": [
    "class Student:\n",
    "    def __init__(self,m1,m2):\n",
    "        self.m1=m1\n",
    "        self.m2=m2\n",
    "        \n",
    "    def __add__(self,other):\n",
    "        m1=self.m1+other.m1\n",
    "        m2=self.m2+other.m2\n",
    "        \n",
    "        s3=Student(m1,m2)\n",
    "        \n",
    "        return s3\n",
    "    \n",
    "    def __str__(self):\n",
    "        print(self.m1,self.m2)\n",
    "        return '() () '.format(self.m1, self.m2)\n",
    "        \n",
    "    \n",
    "s1=Student(1,2)\n",
    "s2=Student(11,12)\n",
    "\n",
    "s3=s1+s2\n",
    "\n",
    "print(s3.m1,s3.m2)\n",
    "print(s1)"
   ]
  },
  {
   "cell_type": "code",
   "execution_count": 77,
   "metadata": {},
   "outputs": [
    {
     "name": "stdout",
     "output_type": "stream",
     "text": [
      "6\n",
      "3\n",
      "1\n"
     ]
    }
   ],
   "source": [
    "class Student:\n",
    "    def __init__(self,a,b,c):\n",
    "        self.a=a\n",
    "        self.b=b\n",
    "        self.c=c\n",
    "    \n",
    "    def sum(self, a=None,b=None,c=None):\n",
    "        if a!=None and b!=None and c!=None:\n",
    "            d=a+b+c\n",
    "        elif a!=None and b!=None :\n",
    "            d=a+b\n",
    "        elif a!=None:\n",
    "            d=a\n",
    "        \n",
    "        return d\n",
    "    \n",
    "s=Student(1,1,1)\n",
    "print(s.sum(1,2,3))\n",
    "print(s.sum(1,2))\n",
    "print(s.sum(1))"
   ]
  },
  {
   "cell_type": "code",
   "execution_count": 82,
   "metadata": {},
   "outputs": [
    {
     "name": "stdout",
     "output_type": "stream",
     "text": [
      "In A Constructor\n",
      "In B Show\n"
     ]
    }
   ],
   "source": [
    "class A:\n",
    "    def __init__(self):\n",
    "        print(\"In A Constructor\")\n",
    "    def show(self):\n",
    "        print(\"In A Show\")\n",
    "\n",
    "class B(A):\n",
    "    def show(self):\n",
    "        print(\"In B Show\")\n",
    "\n",
    "a=B()\n",
    "a.show()    "
   ]
  },
  {
   "cell_type": "code",
   "execution_count": 89,
   "metadata": {},
   "outputs": [
    {
     "name": "stdout",
     "output_type": "stream",
     "text": [
      "2.5\n",
      "Hello\n"
     ]
    }
   ],
   "source": [
    "a = 5\n",
    "b=2\n",
    "\n",
    "try:\n",
    "    print(\"Open file\")\n",
    "    print(a/b)\n",
    "except Exception as e:\n",
    "    print(\"Division by zero error --> \",e)\n",
    "finally:\n",
    "    print(\"Close file\")\n",
    "print(\"Hello\")"
   ]
  },
  {
   "cell_type": "code",
   "execution_count": 94,
   "metadata": {},
   "outputs": [
    {
     "name": "stdout",
     "output_type": "stream",
     "text": [
      "Enter a numberw\n",
      "Invalid Input\n",
      "Close file\n",
      "Hello\n"
     ]
    }
   ],
   "source": [
    "try:\n",
    "    a = int(input(\"Enter a number\"))\n",
    "    b = int(input(\"Enter a number\"))\n",
    "\n",
    "\n",
    "    print(\"Open file\")\n",
    "    print(a/b)\n",
    "    \n",
    "except ZeroDivisionError as e:\n",
    "    print(\"Division by zero error --> \",e)\n",
    "except ValueError as e:\n",
    "    print(\"Invalid Input\")\n",
    "except Exception as e:\n",
    "    print(\"Something Went wrong\")\n",
    "    \n",
    "finally:\n",
    "    print(\"Close file\")\n",
    "\n",
    "print(\"Hello\")"
   ]
  },
  {
   "cell_type": "code",
   "execution_count": 106,
   "metadata": {},
   "outputs": [
    {
     "name": "stdout",
     "output_type": "stream",
     "text": [
      "Hello\n",
      "Hi\n",
      "Hello\n",
      "Hi\n",
      "Hello\n",
      "Hi\n",
      "Hello\n",
      "Hi\n",
      "Hello\n",
      "Hi\n",
      "main\n"
     ]
    }
   ],
   "source": [
    "from threading import *\n",
    "from time import *\n",
    "class Hello(Thread):\n",
    "    def run(self):\n",
    "        for i in range(5):\n",
    "            print(\"Hello\")\n",
    "            sleep(1)\n",
    "\n",
    "class Hi(Thread):\n",
    "    def run(self):\n",
    "        for i in range(5):\n",
    "            print(\"Hi\")\n",
    "            sleep(1)\n",
    "            \n",
    "a=Hello()\n",
    "b=Hi()\n",
    "\n",
    "a.start()\n",
    "sleep(0.2)\n",
    "b.start()\n",
    "\n",
    "a.join()\n",
    "b.join()\n",
    "\n",
    "print(\"main\")"
   ]
  },
  {
   "cell_type": "code",
   "execution_count": 124,
   "metadata": {},
   "outputs": [
    {
     "data": {
      "text/plain": [
       "'Hi Hello\\nHow are you?'"
      ]
     },
     "execution_count": 124,
     "metadata": {},
     "output_type": "execute_result"
    }
   ],
   "source": [
    "data=open('MyData.txt','r')\n",
    "file1=open('MyFile.txt','w')\n",
    "\n",
    "file1.write(\"writing from python code 123 --> \")\n",
    "file2=open('MyFile.txt','a')\n",
    "file2.write(\"Hello\")\n",
    "\n",
    "data.read()"
   ]
  },
  {
   "cell_type": "code",
   "execution_count": 127,
   "metadata": {},
   "outputs": [
    {
     "data": {
      "text/plain": [
       "129910"
      ]
     },
     "execution_count": 127,
     "metadata": {},
     "output_type": "execute_result"
    }
   ],
   "source": [
    "pic=open('Chinnu.jpg','rb')\n",
    "\n",
    "\n",
    "chinnupic=open('Chinnu1.jpg','wb')\n",
    "chinnupic.write(pic.read())"
   ]
  },
  {
   "cell_type": "code",
   "execution_count": null,
   "metadata": {},
   "outputs": [],
   "source": [
    "data=open('MyData.txt','r')         #opening file in read mode\n",
    "file1=open('MyFile.txt','w')        #opening file in write mode\n",
    "\n",
    "file1.write(\"writing from python code 123 --> \")\n",
    "file2=open('MyFile.txt','a')        #opening file in append mode\n",
    "file2.write(\"Hello\")\n",
    "\n",
    "data.read()"
   ]
  }
 ],
 "metadata": {
  "kernelspec": {
   "display_name": "Python 3",
   "language": "python",
   "name": "python3"
  },
  "language_info": {
   "codemirror_mode": {
    "name": "ipython",
    "version": 3
   },
   "file_extension": ".py",
   "mimetype": "text/x-python",
   "name": "python",
   "nbconvert_exporter": "python",
   "pygments_lexer": "ipython3",
   "version": "3.8.3"
  }
 },
 "nbformat": 4,
 "nbformat_minor": 4
}
